{
 "cells": [
  {
   "cell_type": "code",
   "execution_count": 2,
   "metadata": {},
   "outputs": [],
   "source": [
    "from spatial_split import *"
   ]
  },
  {
   "cell_type": "code",
   "execution_count": 3,
   "metadata": {},
   "outputs": [],
   "source": [
    "# Generate random dataset with 3 dimensions\n",
    "\n",
    "from sklearn.datasets import make_blobs\n",
    "n_samples = 100  # Number of samples\n",
    "n_features = 3  # Number of dimensions\n",
    "centers = 3  # Number of clusters\n",
    "random_state = 42  # Random state for reproducibility\n",
    "\n",
    "X, y = make_blobs(n_samples=n_samples, n_features=n_features, centers=centers, random_state=random_state)"
   ]
  },
  {
   "cell_type": "code",
   "execution_count": 9,
   "metadata": {},
   "outputs": [],
   "source": [
    "split_X, bin_bounds = spatial_split(X, [2,2,2])\n"
   ]
  },
  {
   "cell_type": "code",
   "execution_count": 13,
   "metadata": {},
   "outputs": [],
   "source": [
    "from pyspark import SparkContext\n",
    "from pyspark import SparkConf\n",
    "sc = SparkContext.getOrCreate(SparkConf().setMaster(\"local[*]\"))\n",
    "\n",
    "partition_data = sc.parallelize(split_X).groupByKey().map(lambda x: [x[0], list(x[1])])"
   ]
  },
  {
   "cell_type": "code",
   "execution_count": 15,
   "metadata": {},
   "outputs": [
    {
     "data": {
      "text/plain": [
       "[(1, 0, 0), (0, 1, 1), (1, 1, 1)]"
      ]
     },
     "execution_count": 15,
     "metadata": {},
     "output_type": "execute_result"
    }
   ],
   "source": [
    "partition_data.keys().collect()"
   ]
  },
  {
   "cell_type": "code",
   "execution_count": 19,
   "metadata": {},
   "outputs": [
    {
     "name": "stderr",
     "output_type": "stream",
     "text": [
      "                                                                                \r"
     ]
    }
   ],
   "source": [
    "p1 = partition_data.filter(lambda x: x[0] == (1, 0, 0))\n",
    "p1_ind = p1.values().collect()[0]"
   ]
  },
  {
   "cell_type": "code",
   "execution_count": 24,
   "metadata": {},
   "outputs": [
    {
     "data": {
      "text/plain": [
       "[6, 7, 5]"
      ]
     },
     "execution_count": 24,
     "metadata": {},
     "output_type": "execute_result"
    }
   ],
   "source": [
    "# calculate grid number for each dimension in one partition\n",
    "def cal_grid_num(data, eps):\n",
    "    grid_side_len = eps/np.sqrt(data.shape[1])\n",
    "    gridnum_each_dim = [int((np.max(data[:, i]) - np.min(data[:, i])) / grid_side_len) for i in range(data.shape[1])]\n",
    "    return gridnum_each_dim\n",
    "\n",
    "gridnum_each_dim = cal_grid_num(X[p1_ind], 1)\n",
    "gridnum_each_dim"
   ]
  },
  {
   "cell_type": "code",
   "execution_count": null,
   "metadata": {},
   "outputs": [],
   "source": [
    "def get_partition_data(dataset, point_id):\n",
    "    return dataset[point_id]\n",
    "\n",
    "def get_grid_cell(partition_data, eps):\n",
    "    gridnum_each_dim = cal_grid_num(partition_data, eps)\n",
    "    grid_with_point, _ = spatial_split(partition_data, gridnum_each_dim)\n",
    "    return grid_with_point\n",
    "\n",
    "def find_core_point(partition_data, eps, min_pts):\n",
    "    grid_with_point = get_grid_cell(partition_data, eps)\n",
    "    core_point = []\n",
    "    for grid in grid_with_point:\n",
    "        if len(grid_with_point[grid]) >= min_pts:\n",
    "            core_point.extend(grid_with_point[grid])\n",
    "    return core_point\n",
    "\n",
    "def find_core_cell(partition_data, eps, min_pts):\n",
    "    core_point = find_core_point(partition_data, eps, min_pts)\n",
    "    gridnum_each_dim = cal_grid_num(partition_data, eps)\n",
    "    grid_with_point, _ = spatial_split(partition_data, gridnum_each_dim)\n",
    "    core_cell = []\n",
    "    for point in core_point:\n",
    "        for grid in grid_with_point:\n",
    "            if point in grid_with_point[grid]:\n",
    "                core_cell.append(grid)\n",
    "    return core_cell\n",
    "\n"
   ]
  },
  {
   "cell_type": "code",
   "execution_count": 26,
   "metadata": {},
   "outputs": [],
   "source": [
    "grid_data, _ = spatial_split(X[p1_ind], gridnum_each_dim)"
   ]
  },
  {
   "cell_type": "code",
   "execution_count": 27,
   "metadata": {},
   "outputs": [
    {
     "data": {
      "text/plain": [
       "[[(2, 0, 3), 0],\n",
       " [(3, 2, 1), 1],\n",
       " [(2, 0, 0), 2],\n",
       " [(0, 1, 3), 3],\n",
       " [(2, 3, 1), 4],\n",
       " [(2, 3, 2), 5],\n",
       " [(0, 2, 1), 6],\n",
       " [(2, 3, 3), 7],\n",
       " [(3, 2, 1), 8],\n",
       " [(0, 3, 4), 9],\n",
       " [(2, 3, 0), 10],\n",
       " [(5, 1, 1), 11],\n",
       " [(2, 3, 4), 12],\n",
       " [(0, 3, 4), 13],\n",
       " [(1, 1, 2), 14],\n",
       " [(4, 4, 4), 15],\n",
       " [(0, 1, 2), 16],\n",
       " [(2, 3, 0), 17],\n",
       " [(0, 3, 0), 18],\n",
       " [(3, 3, 4), 19],\n",
       " [(2, 1, 3), 20],\n",
       " [(2, 1, 0), 21],\n",
       " [(0, 4, 3), 22],\n",
       " [(2, 6, 2), 23],\n",
       " [(3, 5, 3), 24],\n",
       " [(1, 3, 0), 25],\n",
       " [(3, 1, 4), 26],\n",
       " [(3, 0, 0), 27],\n",
       " [(0, 4, 4), 28],\n",
       " [(1, 3, 1), 29],\n",
       " [(0, 4, 4), 30],\n",
       " [(0, 2, 0), 31],\n",
       " [(3, 4, 1), 32]]"
      ]
     },
     "execution_count": 27,
     "metadata": {},
     "output_type": "execute_result"
    }
   ],
   "source": [
    "grid_data"
   ]
  },
  {
   "cell_type": "code",
   "execution_count": null,
   "metadata": {},
   "outputs": [],
   "source": []
  }
 ],
 "metadata": {
  "kernelspec": {
   "display_name": "py310",
   "language": "python",
   "name": "python3"
  },
  "language_info": {
   "codemirror_mode": {
    "name": "ipython",
    "version": 3
   },
   "file_extension": ".py",
   "mimetype": "text/x-python",
   "name": "python",
   "nbconvert_exporter": "python",
   "pygments_lexer": "ipython3",
   "version": "3.10.13"
  }
 },
 "nbformat": 4,
 "nbformat_minor": 2
}
